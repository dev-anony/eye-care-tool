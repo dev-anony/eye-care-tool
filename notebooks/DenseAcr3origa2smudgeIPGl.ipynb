{
 "cells": [
  {
   "cell_type": "code",
   "execution_count": 1,
   "metadata": {
    "executionInfo": {
     "elapsed": 5553,
     "status": "ok",
     "timestamp": 1716487721566,
     "user": {
      "displayName": "fox eSports",
      "userId": "02112915752480122633"
     },
     "user_tz": -330
    },
    "id": "yU5wOfzjQ8iR"
   },
   "outputs": [],
   "source": [
    "import tensorflow as tf\n",
    "import cv2\n",
    "import keras\n",
    "import os\n",
    "import pandas as pd\n",
    "import matplotlib.pyplot as plt\n",
    "from tensorflow.keras.models import Sequential\n",
    "from tensorflow.keras.layers import Conv2D, MaxPooling2D, Flatten, Dense, Dropout\n",
    "import numpy as np\n",
    "from keras.callbacks import ModelCheckpoint\n",
    "import pickle"
   ]
  },
  {
   "cell_type": "code",
   "execution_count": 2,
   "metadata": {
    "colab": {
     "base_uri": "https://localhost:8080/"
    },
    "executionInfo": {
     "elapsed": 22734,
     "status": "ok",
     "timestamp": 1716487744294,
     "user": {
      "displayName": "fox eSports",
      "userId": "02112915752480122633"
     },
     "user_tz": -330
    },
    "id": "ixKUGVZHQ9pc",
    "outputId": "c7fd6ca2-a191-43b1-b619-f228e028b108"
   },
   "outputs": [
    {
     "name": "stdout",
     "output_type": "stream",
     "text": [
      "Mounted at /content/drive\n"
     ]
    }
   ],
   "source": [
    "\n",
    "from google.colab import drive\n",
    "drive.mount('/content/drive')"
   ]
  },
  {
   "cell_type": "code",
   "execution_count": 3,
   "metadata": {
    "executionInfo": {
     "elapsed": 4062,
     "status": "ok",
     "timestamp": 1716487748352,
     "user": {
      "displayName": "fox eSports",
      "userId": "02112915752480122633"
     },
     "user_tz": -330
    },
    "id": "NNqyqeXCOm2a"
   },
   "outputs": [],
   "source": [
    "with open('/content/drive/My Drive/Colab Notebooks/origaacrima36/x_train.pkl', 'rb') as file:\n",
    "    x_train = pickle.load(file)\n",
    "\n",
    "with open('/content/drive/My Drive/Colab Notebooks/origaacrima36/x_test.pkl', 'rb') as file:\n",
    "    x_test = pickle.load(file)\n",
    "\n",
    "with open('/content/drive/My Drive/Colab Notebooks/origaacrima36/y_train.pkl', 'rb') as file:\n",
    "    y_train = pickle.load(file)\n",
    "\n",
    "with open('/content/drive/My Drive/Colab Notebooks/origaacrima36/y_test.pkl', 'rb') as file:\n",
    "    y_test = pickle.load(file)\n",
    "#print(x_train)\n"
   ]
  },
  {
   "cell_type": "code",
   "execution_count": 4,
   "metadata": {
    "colab": {
     "base_uri": "https://localhost:8080/"
    },
    "executionInfo": {
     "elapsed": 5,
     "status": "ok",
     "timestamp": 1716487748353,
     "user": {
      "displayName": "fox eSports",
      "userId": "02112915752480122633"
     },
     "user_tz": -330
    },
    "id": "etcKXHIAPV07",
    "outputId": "4d6fb16e-6c27-4c21-afc1-e058710c1a9e"
   },
   "outputs": [
    {
     "name": "stdout",
     "output_type": "stream",
     "text": [
      "x_train shape: (2480, 2)\n",
      "y_test shape: (621, 2)\n",
      "2480 train samples\n",
      "621 test samples\n",
      "(36, 36, 3)\n"
     ]
    }
   ],
   "source": [
    "\n",
    "print(\"x_train shape:\", y_train.shape)\n",
    "print(\"y_test shape:\", y_test.shape)\n",
    "print(y_train.shape[0], \"train samples\")\n",
    "print(y_test.shape[0], \"test samples\")\n",
    "print(x_train.shape[1:])"
   ]
  },
  {
   "cell_type": "code",
   "execution_count": 5,
   "metadata": {
    "executionInfo": {
     "elapsed": 3,
     "status": "ok",
     "timestamp": 1716487748353,
     "user": {
      "displayName": "fox eSports",
      "userId": "02112915752480122633"
     },
     "user_tz": -330
    },
    "id": "C-C2loZiRMKs"
   },
   "outputs": [],
   "source": [
    "\n",
    "# Import Densenet from Keras\n",
    "from keras.applications.densenet import DenseNet201\n",
    "from keras.layers import Dense, GlobalAveragePooling2D, Input, Activation, BatchNormalization\n",
    "from keras.models import Model\n",
    "from keras import backend as K"
   ]
  },
  {
   "cell_type": "code",
   "execution_count": 6,
   "metadata": {
    "colab": {
     "base_uri": "https://localhost:8080/"
    },
    "executionInfo": {
     "elapsed": 11883,
     "status": "ok",
     "timestamp": 1716487760233,
     "user": {
      "displayName": "fox eSports",
      "userId": "02112915752480122633"
     },
     "user_tz": -330
    },
    "id": "5hIuTczyZJYa",
    "outputId": "65b59be8-9233-4e29-f3d8-7a26de9bfd1d"
   },
   "outputs": [
    {
     "name": "stdout",
     "output_type": "stream",
     "text": [
      "Downloading data from https://storage.googleapis.com/tensorflow/keras-applications/densenet/densenet201_weights_tf_dim_ordering_tf_kernels_notop.h5\n",
      "74836368/74836368 [==============================] - 1s 0us/step\n"
     ]
    }
   ],
   "source": [
    "inputs = Input(shape=(36,36,3))\n",
    "model = DenseNet201(weights='imagenet', include_top=False)(inputs)\n",
    "\n",
    "# Our FC layer\n",
    "flat1 = Flatten()(model)\n",
    "dense1 = Dense(units=256, use_bias=True)(flat1)\n",
    "batchnorm1 = BatchNormalization()(dense1)\n",
    "act1 = Activation(activation='relu')(batchnorm1)\n",
    "drop1 = Dropout(rate=0.5)(act1)\n",
    "\n",
    "# Output\n",
    "out = Dense(units=2, activation='softmax')(drop1)\n",
    "\n",
    "# Create Model\n",
    "model = Model(inputs=inputs, outputs=out)"
   ]
  },
  {
   "cell_type": "code",
   "execution_count": 7,
   "metadata": {
    "colab": {
     "base_uri": "https://localhost:8080/"
    },
    "executionInfo": {
     "elapsed": 14,
     "status": "ok",
     "timestamp": 1716487760233,
     "user": {
      "displayName": "fox eSports",
      "userId": "02112915752480122633"
     },
     "user_tz": -330
    },
    "id": "BZZ4YQitfwT8",
    "outputId": "b219bc6f-e893-41f2-eba5-c7b4b3b235b9"
   },
   "outputs": [
    {
     "name": "stdout",
     "output_type": "stream",
     "text": [
      "Model: \"model\"\n",
      "_________________________________________________________________\n",
      " Layer (type)                Output Shape              Param #   \n",
      "=================================================================\n",
      " input_1 (InputLayer)        [(None, 36, 36, 3)]       0         \n",
      "                                                                 \n",
      " densenet201 (Functional)    (None, None, None, 1920   18321984  \n",
      "                             )                                   \n",
      "                                                                 \n",
      " flatten (Flatten)           (None, 1920)              0         \n",
      "                                                                 \n",
      " dense (Dense)               (None, 256)               491776    \n",
      "                                                                 \n",
      " batch_normalization (Batch  (None, 256)               1024      \n",
      " Normalization)                                                  \n",
      "                                                                 \n",
      " activation (Activation)     (None, 256)               0         \n",
      "                                                                 \n",
      " dropout (Dropout)           (None, 256)               0         \n",
      "                                                                 \n",
      " dense_1 (Dense)             (None, 2)                 514       \n",
      "                                                                 \n",
      "=================================================================\n",
      "Total params: 18815298 (71.77 MB)\n",
      "Trainable params: 18585730 (70.90 MB)\n",
      "Non-trainable params: 229568 (896.75 KB)\n",
      "_________________________________________________________________\n"
     ]
    }
   ],
   "source": [
    "model.summary()"
   ]
  },
  {
   "cell_type": "code",
   "execution_count": 8,
   "metadata": {
    "executionInfo": {
     "elapsed": 9,
     "status": "ok",
     "timestamp": 1716487760234,
     "user": {
      "displayName": "fox eSports",
      "userId": "02112915752480122633"
     },
     "user_tz": -330
    },
    "id": "lOZuXfxYROl7"
   },
   "outputs": [],
   "source": [
    "model.compile(optimizer='SGD', loss='binary_crossentropy', metrics=['accuracy'])"
   ]
  },
  {
   "cell_type": "code",
   "execution_count": 9,
   "metadata": {
    "colab": {
     "base_uri": "https://localhost:8080/"
    },
    "executionInfo": {
     "elapsed": 373948,
     "status": "ok",
     "timestamp": 1716488134173,
     "user": {
      "displayName": "fox eSports",
      "userId": "02112915752480122633"
     },
     "user_tz": -330
    },
    "id": "_U6nmJsnRRae",
    "outputId": "65dcd992-983a-4143-8cf5-4519a5b35c6b"
   },
   "outputs": [
    {
     "name": "stdout",
     "output_type": "stream",
     "text": [
      "Epoch 1/90\n",
      "20/20 [==============================] - 100s 857ms/step - loss: 0.7150 - accuracy: 0.6310 - val_loss: 0.6809 - val_accuracy: 0.5974\n",
      "Epoch 2/90\n",
      "20/20 [==============================] - 3s 157ms/step - loss: 0.4583 - accuracy: 0.8069 - val_loss: 0.6568 - val_accuracy: 0.5668\n",
      "Epoch 3/90\n",
      "20/20 [==============================] - 4s 187ms/step - loss: 0.3411 - accuracy: 0.8722 - val_loss: 0.6318 - val_accuracy: 0.6715\n",
      "Epoch 4/90\n",
      "20/20 [==============================] - 3s 146ms/step - loss: 0.2537 - accuracy: 0.9101 - val_loss: 0.6048 - val_accuracy: 0.7375\n",
      "Epoch 5/90\n",
      "20/20 [==============================] - 3s 146ms/step - loss: 0.1913 - accuracy: 0.9399 - val_loss: 0.5797 - val_accuracy: 0.7488\n",
      "Epoch 6/90\n",
      "20/20 [==============================] - 3s 147ms/step - loss: 0.1710 - accuracy: 0.9496 - val_loss: 0.5647 - val_accuracy: 0.7842\n",
      "Epoch 7/90\n",
      "20/20 [==============================] - 4s 192ms/step - loss: 0.1108 - accuracy: 0.9706 - val_loss: 0.4951 - val_accuracy: 0.8309\n",
      "Epoch 8/90\n",
      "20/20 [==============================] - 3s 150ms/step - loss: 0.0829 - accuracy: 0.9823 - val_loss: 0.4789 - val_accuracy: 0.8406\n",
      "Epoch 9/90\n",
      "20/20 [==============================] - 3s 148ms/step - loss: 0.0577 - accuracy: 0.9907 - val_loss: 0.4416 - val_accuracy: 0.8680\n",
      "Epoch 10/90\n",
      "20/20 [==============================] - 3s 139ms/step - loss: 0.0505 - accuracy: 0.9952 - val_loss: 0.3931 - val_accuracy: 0.8760\n",
      "Epoch 11/90\n",
      "20/20 [==============================] - 3s 168ms/step - loss: 0.0507 - accuracy: 0.9911 - val_loss: 0.3746 - val_accuracy: 0.8663\n",
      "Epoch 12/90\n",
      "20/20 [==============================] - 4s 184ms/step - loss: 0.0751 - accuracy: 0.9843 - val_loss: 0.3507 - val_accuracy: 0.8889\n",
      "Epoch 13/90\n",
      "20/20 [==============================] - 3s 139ms/step - loss: 0.0625 - accuracy: 0.9843 - val_loss: 0.3342 - val_accuracy: 0.8728\n",
      "Epoch 14/90\n",
      "20/20 [==============================] - 3s 145ms/step - loss: 0.0539 - accuracy: 0.9867 - val_loss: 0.3937 - val_accuracy: 0.8486\n",
      "Epoch 15/90\n",
      "20/20 [==============================] - 3s 146ms/step - loss: 0.0997 - accuracy: 0.9694 - val_loss: 0.3916 - val_accuracy: 0.8583\n",
      "Epoch 16/90\n",
      "20/20 [==============================] - 4s 189ms/step - loss: 0.0767 - accuracy: 0.9782 - val_loss: 0.2420 - val_accuracy: 0.9082\n",
      "Epoch 17/90\n",
      "20/20 [==============================] - 3s 147ms/step - loss: 0.0624 - accuracy: 0.9855 - val_loss: 0.6808 - val_accuracy: 0.8631\n",
      "Epoch 18/90\n",
      "20/20 [==============================] - 3s 138ms/step - loss: 0.0562 - accuracy: 0.9859 - val_loss: 0.3007 - val_accuracy: 0.8905\n",
      "Epoch 19/90\n",
      "20/20 [==============================] - 3s 139ms/step - loss: 0.0358 - accuracy: 0.9940 - val_loss: 0.4422 - val_accuracy: 0.8744\n",
      "Epoch 20/90\n",
      "20/20 [==============================] - 3s 159ms/step - loss: 0.0522 - accuracy: 0.9891 - val_loss: 0.4521 - val_accuracy: 0.8663\n",
      "Epoch 21/90\n",
      "20/20 [==============================] - 3s 172ms/step - loss: 0.0406 - accuracy: 0.9907 - val_loss: 2.7390 - val_accuracy: 0.7810\n",
      "Epoch 22/90\n",
      "20/20 [==============================] - 3s 144ms/step - loss: 0.0439 - accuracy: 0.9919 - val_loss: 0.2793 - val_accuracy: 0.8969\n",
      "Epoch 23/90\n",
      "20/20 [==============================] - 3s 139ms/step - loss: 0.0396 - accuracy: 0.9903 - val_loss: 0.3809 - val_accuracy: 0.8776\n",
      "Epoch 24/90\n",
      "20/20 [==============================] - 3s 146ms/step - loss: 0.0486 - accuracy: 0.9867 - val_loss: 0.4134 - val_accuracy: 0.8937\n",
      "Epoch 25/90\n",
      "20/20 [==============================] - 4s 195ms/step - loss: 0.0327 - accuracy: 0.9931 - val_loss: 0.2933 - val_accuracy: 0.8712\n",
      "Epoch 26/90\n",
      "20/20 [==============================] - 3s 145ms/step - loss: 0.0306 - accuracy: 0.9935 - val_loss: 0.2624 - val_accuracy: 0.9130\n",
      "Epoch 27/90\n",
      "20/20 [==============================] - 3s 138ms/step - loss: 0.0244 - accuracy: 0.9972 - val_loss: 0.2713 - val_accuracy: 0.9163\n",
      "Epoch 28/90\n",
      "20/20 [==============================] - 3s 144ms/step - loss: 0.0231 - accuracy: 0.9935 - val_loss: 0.9235 - val_accuracy: 0.7907\n",
      "Epoch 29/90\n",
      "20/20 [==============================] - 3s 161ms/step - loss: 0.0305 - accuracy: 0.9931 - val_loss: 0.3005 - val_accuracy: 0.9018\n",
      "Epoch 30/90\n",
      "20/20 [==============================] - 4s 181ms/step - loss: 0.0238 - accuracy: 0.9952 - val_loss: 0.4172 - val_accuracy: 0.8921\n",
      "Epoch 31/90\n",
      "20/20 [==============================] - 3s 137ms/step - loss: 0.0224 - accuracy: 0.9960 - val_loss: 1.3831 - val_accuracy: 0.5298\n",
      "Epoch 32/90\n",
      "20/20 [==============================] - 3s 141ms/step - loss: 0.2224 - accuracy: 0.9210 - val_loss: 0.6295 - val_accuracy: 0.7182\n",
      "Epoch 33/90\n",
      "20/20 [==============================] - 3s 148ms/step - loss: 0.1082 - accuracy: 0.9653 - val_loss: 0.4374 - val_accuracy: 0.8035\n",
      "Epoch 34/90\n",
      "20/20 [==============================] - 4s 190ms/step - loss: 0.0858 - accuracy: 0.9685 - val_loss: 0.3826 - val_accuracy: 0.8438\n",
      "Epoch 35/90\n",
      "20/20 [==============================] - 3s 148ms/step - loss: 0.0580 - accuracy: 0.9819 - val_loss: 0.2660 - val_accuracy: 0.8824\n",
      "Epoch 36/90\n",
      "20/20 [==============================] - 3s 138ms/step - loss: 0.0380 - accuracy: 0.9903 - val_loss: 0.2353 - val_accuracy: 0.9034\n",
      "Epoch 37/90\n",
      "20/20 [==============================] - 3s 139ms/step - loss: 0.0302 - accuracy: 0.9923 - val_loss: 0.2751 - val_accuracy: 0.9018\n",
      "Epoch 38/90\n",
      "20/20 [==============================] - 3s 164ms/step - loss: 0.0316 - accuracy: 0.9911 - val_loss: 0.3506 - val_accuracy: 0.8760\n",
      "Epoch 39/90\n",
      "20/20 [==============================] - 4s 181ms/step - loss: 0.0241 - accuracy: 0.9935 - val_loss: 0.4314 - val_accuracy: 0.8663\n",
      "Epoch 40/90\n",
      "20/20 [==============================] - 3s 136ms/step - loss: 0.0244 - accuracy: 0.9956 - val_loss: 0.3806 - val_accuracy: 0.8905\n",
      "Epoch 41/90\n",
      "20/20 [==============================] - 3s 137ms/step - loss: 0.0262 - accuracy: 0.9940 - val_loss: 0.2620 - val_accuracy: 0.9018\n",
      "Epoch 42/90\n",
      "20/20 [==============================] - 3s 139ms/step - loss: 0.0167 - accuracy: 0.9972 - val_loss: 0.2988 - val_accuracy: 0.9018\n",
      "Epoch 43/90\n",
      "20/20 [==============================] - 4s 179ms/step - loss: 0.0178 - accuracy: 0.9968 - val_loss: 0.3264 - val_accuracy: 0.8969\n",
      "Epoch 44/90\n",
      "20/20 [==============================] - 3s 143ms/step - loss: 0.0241 - accuracy: 0.9931 - val_loss: 0.3840 - val_accuracy: 0.8921\n",
      "Epoch 45/90\n",
      "20/20 [==============================] - 3s 140ms/step - loss: 0.0144 - accuracy: 0.9972 - val_loss: 0.2562 - val_accuracy: 0.9211\n",
      "Epoch 46/90\n",
      "20/20 [==============================] - 3s 147ms/step - loss: 0.0156 - accuracy: 0.9972 - val_loss: 0.2648 - val_accuracy: 0.9114\n",
      "Epoch 47/90\n",
      "20/20 [==============================] - 3s 153ms/step - loss: 0.0105 - accuracy: 0.9976 - val_loss: 0.3019 - val_accuracy: 0.9227\n",
      "Epoch 48/90\n",
      "20/20 [==============================] - 4s 186ms/step - loss: 0.0082 - accuracy: 0.9992 - val_loss: 0.3499 - val_accuracy: 0.9098\n",
      "Epoch 49/90\n",
      "20/20 [==============================] - 3s 145ms/step - loss: 0.0149 - accuracy: 0.9984 - val_loss: 0.2482 - val_accuracy: 0.9324\n",
      "Epoch 50/90\n",
      "20/20 [==============================] - 3s 146ms/step - loss: 0.0066 - accuracy: 1.0000 - val_loss: 0.2719 - val_accuracy: 0.9243\n",
      "Epoch 51/90\n",
      "20/20 [==============================] - 3s 139ms/step - loss: 0.0072 - accuracy: 1.0000 - val_loss: 0.2455 - val_accuracy: 0.9340\n",
      "Epoch 52/90\n",
      "20/20 [==============================] - 4s 187ms/step - loss: 0.0060 - accuracy: 0.9996 - val_loss: 0.3031 - val_accuracy: 0.9034\n",
      "Epoch 53/90\n",
      "20/20 [==============================] - 3s 141ms/step - loss: 0.0053 - accuracy: 1.0000 - val_loss: 0.2497 - val_accuracy: 0.9147\n",
      "Epoch 54/90\n",
      "20/20 [==============================] - 3s 145ms/step - loss: 0.0065 - accuracy: 0.9992 - val_loss: 0.2401 - val_accuracy: 0.9275\n",
      "Epoch 55/90\n",
      "20/20 [==============================] - 3s 146ms/step - loss: 0.0063 - accuracy: 0.9996 - val_loss: 0.3203 - val_accuracy: 0.9098\n",
      "Epoch 56/90\n",
      "20/20 [==============================] - 3s 160ms/step - loss: 0.0071 - accuracy: 0.9988 - val_loss: 0.2363 - val_accuracy: 0.9404\n",
      "Epoch 57/90\n",
      "20/20 [==============================] - 4s 179ms/step - loss: 0.0056 - accuracy: 1.0000 - val_loss: 0.2317 - val_accuracy: 0.9372\n",
      "Epoch 58/90\n",
      "20/20 [==============================] - 3s 137ms/step - loss: 0.0047 - accuracy: 1.0000 - val_loss: 0.2665 - val_accuracy: 0.9227\n",
      "Epoch 59/90\n",
      "20/20 [==============================] - 3s 135ms/step - loss: 0.0077 - accuracy: 0.9984 - val_loss: 0.2569 - val_accuracy: 0.9243\n",
      "Epoch 60/90\n",
      "20/20 [==============================] - 3s 135ms/step - loss: 0.0060 - accuracy: 0.9992 - val_loss: 0.2602 - val_accuracy: 0.9179\n",
      "Epoch 61/90\n",
      "20/20 [==============================] - 4s 182ms/step - loss: 0.0043 - accuracy: 1.0000 - val_loss: 0.3948 - val_accuracy: 0.8937\n",
      "Epoch 62/90\n",
      "20/20 [==============================] - 3s 152ms/step - loss: 0.0063 - accuracy: 0.9996 - val_loss: 0.2564 - val_accuracy: 0.9324\n",
      "Epoch 63/90\n",
      "20/20 [==============================] - 3s 138ms/step - loss: 0.0050 - accuracy: 0.9996 - val_loss: 0.6588 - val_accuracy: 0.8921\n",
      "Epoch 64/90\n",
      "20/20 [==============================] - 3s 138ms/step - loss: 0.0220 - accuracy: 0.9960 - val_loss: 0.2447 - val_accuracy: 0.9227\n",
      "Epoch 65/90\n",
      "20/20 [==============================] - 3s 154ms/step - loss: 0.0062 - accuracy: 0.9992 - val_loss: 0.2367 - val_accuracy: 0.9243\n",
      "Epoch 66/90\n",
      "20/20 [==============================] - 4s 190ms/step - loss: 0.0067 - accuracy: 0.9992 - val_loss: 0.2588 - val_accuracy: 0.9291\n",
      "Epoch 67/90\n",
      "20/20 [==============================] - 3s 144ms/step - loss: 0.0044 - accuracy: 1.0000 - val_loss: 0.2738 - val_accuracy: 0.9227\n",
      "Epoch 68/90\n",
      "20/20 [==============================] - 3s 144ms/step - loss: 0.0038 - accuracy: 1.0000 - val_loss: 0.2621 - val_accuracy: 0.9259\n",
      "Epoch 69/90\n",
      "20/20 [==============================] - 3s 145ms/step - loss: 0.0053 - accuracy: 0.9992 - val_loss: 0.2737 - val_accuracy: 0.9243\n",
      "Epoch 70/90\n",
      "20/20 [==============================] - 3s 177ms/step - loss: 0.0049 - accuracy: 0.9996 - val_loss: 0.3299 - val_accuracy: 0.9147\n",
      "Epoch 71/90\n",
      "20/20 [==============================] - 3s 163ms/step - loss: 0.0074 - accuracy: 0.9988 - val_loss: 0.2743 - val_accuracy: 0.9259\n",
      "Epoch 72/90\n",
      "20/20 [==============================] - 3s 137ms/step - loss: 0.0042 - accuracy: 1.0000 - val_loss: 0.2639 - val_accuracy: 0.9275\n",
      "Epoch 73/90\n",
      "20/20 [==============================] - 3s 137ms/step - loss: 0.0035 - accuracy: 1.0000 - val_loss: 0.2612 - val_accuracy: 0.9291\n",
      "Epoch 74/90\n",
      "20/20 [==============================] - 3s 141ms/step - loss: 0.0043 - accuracy: 0.9996 - val_loss: 0.2757 - val_accuracy: 0.9275\n",
      "Epoch 75/90\n",
      "20/20 [==============================] - 4s 188ms/step - loss: 0.0032 - accuracy: 1.0000 - val_loss: 0.2612 - val_accuracy: 0.9372\n",
      "Epoch 76/90\n",
      "20/20 [==============================] - 3s 144ms/step - loss: 0.0029 - accuracy: 1.0000 - val_loss: 0.2668 - val_accuracy: 0.9308\n",
      "Epoch 77/90\n",
      "20/20 [==============================] - 3s 145ms/step - loss: 0.0038 - accuracy: 1.0000 - val_loss: 0.2633 - val_accuracy: 0.9308\n",
      "Epoch 78/90\n",
      "20/20 [==============================] - 3s 137ms/step - loss: 0.0033 - accuracy: 1.0000 - val_loss: 0.2765 - val_accuracy: 0.9340\n",
      "Epoch 79/90\n",
      "20/20 [==============================] - 3s 165ms/step - loss: 0.0034 - accuracy: 1.0000 - val_loss: 0.3726 - val_accuracy: 0.9163\n",
      "Epoch 80/90\n",
      "20/20 [==============================] - 3s 172ms/step - loss: 0.0061 - accuracy: 0.9988 - val_loss: 0.2788 - val_accuracy: 0.9324\n",
      "Epoch 81/90\n",
      "20/20 [==============================] - 3s 144ms/step - loss: 0.0029 - accuracy: 1.0000 - val_loss: 0.2842 - val_accuracy: 0.9259\n",
      "Epoch 82/90\n",
      "20/20 [==============================] - 3s 136ms/step - loss: 0.0059 - accuracy: 0.9988 - val_loss: 0.4837 - val_accuracy: 0.8696\n",
      "Epoch 83/90\n",
      "20/20 [==============================] - 3s 143ms/step - loss: 0.0276 - accuracy: 0.9935 - val_loss: 0.2817 - val_accuracy: 0.9227\n",
      "Epoch 84/90\n",
      "20/20 [==============================] - 4s 198ms/step - loss: 0.0047 - accuracy: 1.0000 - val_loss: 0.2911 - val_accuracy: 0.9243\n",
      "Epoch 85/90\n",
      "20/20 [==============================] - 3s 146ms/step - loss: 0.0055 - accuracy: 0.9988 - val_loss: 0.3192 - val_accuracy: 0.9308\n",
      "Epoch 86/90\n",
      "20/20 [==============================] - 3s 145ms/step - loss: 0.0059 - accuracy: 0.9988 - val_loss: 0.4129 - val_accuracy: 0.9130\n",
      "Epoch 87/90\n",
      "20/20 [==============================] - 3s 138ms/step - loss: 0.0049 - accuracy: 0.9996 - val_loss: 0.3271 - val_accuracy: 0.9130\n",
      "Epoch 88/90\n",
      "20/20 [==============================] - 3s 163ms/step - loss: 0.0049 - accuracy: 0.9996 - val_loss: 0.3263 - val_accuracy: 0.9163\n",
      "Epoch 89/90\n",
      "20/20 [==============================] - 4s 182ms/step - loss: 0.0050 - accuracy: 0.9992 - val_loss: 0.3030 - val_accuracy: 0.9227\n",
      "Epoch 90/90\n",
      "20/20 [==============================] - 3s 137ms/step - loss: 0.0033 - accuracy: 1.0000 - val_loss: 0.2957 - val_accuracy: 0.9227\n"
     ]
    },
    {
     "data": {
      "text/plain": [
       "<keras.src.callbacks.History at 0x7add7f6c6a40>"
      ]
     },
     "execution_count": 9,
     "metadata": {},
     "output_type": "execute_result"
    }
   ],
   "source": [
    "model.fit(x_train, y_train, epochs=90, batch_size=128, validation_data=(x_test, y_test))"
   ]
  },
  {
   "cell_type": "code",
   "execution_count": 10,
   "metadata": {
    "colab": {
     "base_uri": "https://localhost:8080/"
    },
    "executionInfo": {
     "elapsed": 13597,
     "status": "ok",
     "timestamp": 1716488147764,
     "user": {
      "displayName": "fox eSports",
      "userId": "02112915752480122633"
     },
     "user_tz": -330
    },
    "id": "JEsbA4mHd5-R",
    "outputId": "ed25e1f4-64bc-4caa-acd8-fc2a559aef91"
   },
   "outputs": [
    {
     "name": "stdout",
     "output_type": "stream",
     "text": [
      "20/20 [==============================] - 9s 160ms/step\n"
     ]
    }
   ],
   "source": [
    "predictions = model.predict(x_test)"
   ]
  },
  {
   "cell_type": "code",
   "execution_count": 11,
   "metadata": {
    "executionInfo": {
     "elapsed": 16,
     "status": "ok",
     "timestamp": 1716488147765,
     "user": {
      "displayName": "fox eSports",
      "userId": "02112915752480122633"
     },
     "user_tz": -330
    },
    "id": "8EStFHJmeJHC"
   },
   "outputs": [],
   "source": [
    "binary_predictions = (predictions > 0.5).astype(int)"
   ]
  },
  {
   "cell_type": "code",
   "execution_count": 12,
   "metadata": {
    "colab": {
     "base_uri": "https://localhost:8080/"
    },
    "executionInfo": {
     "elapsed": 711,
     "status": "ok",
     "timestamp": 1716488148462,
     "user": {
      "displayName": "fox eSports",
      "userId": "02112915752480122633"
     },
     "user_tz": -330
    },
    "id": "apxPYhM2d-sr",
    "outputId": "4029b205-cea0-4124-e59a-98b8df30eaf4"
   },
   "outputs": [
    {
     "name": "stdout",
     "output_type": "stream",
     "text": [
      "Accuracy on test data: 0.9227\n"
     ]
    }
   ],
   "source": [
    "from sklearn.metrics import accuracy_score\n",
    "\n",
    "# Calculate accuracy\n",
    "accuracy = accuracy_score(y_test, binary_predictions)\n",
    "\n",
    "# Print accuracy\n",
    "print(f\"Accuracy on test data: {accuracy:.4f}\")\n"
   ]
  },
  {
   "cell_type": "code",
   "execution_count": 13,
   "metadata": {
    "colab": {
     "base_uri": "https://localhost:8080/"
    },
    "executionInfo": {
     "elapsed": 423,
     "status": "ok",
     "timestamp": 1716488148882,
     "user": {
      "displayName": "fox eSports",
      "userId": "02112915752480122633"
     },
     "user_tz": -330
    },
    "id": "NzNAw-5bRUVi",
    "outputId": "94ba01be-912d-456b-ae9f-94449c5c1786"
   },
   "outputs": [
    {
     "name": "stdout",
     "output_type": "stream",
     "text": [
      "Test loss: 0.29570162296295166\n",
      "Test accuracy: 0.9227052927017212\n"
     ]
    }
   ],
   "source": [
    "score = model.evaluate(x_test, y_test, verbose=0)\n",
    "print(\"Test loss:\", score[0])\n",
    "print(\"Test accuracy:\", score[1])"
   ]
  },
  {
   "cell_type": "code",
   "execution_count": 14,
   "metadata": {
    "colab": {
     "base_uri": "https://localhost:8080/"
    },
    "executionInfo": {
     "elapsed": 4142,
     "status": "ok",
     "timestamp": 1716488153021,
     "user": {
      "displayName": "fox eSports",
      "userId": "02112915752480122633"
     },
     "user_tz": -330
    },
    "id": "ZY1akqfR9fU4",
    "outputId": "841d2465-697b-42dc-aa45-a64f8ff0f760"
   },
   "outputs": [
    {
     "name": "stdout",
     "output_type": "stream",
     "text": [
      "Test loss: 0.0010514201130717993\n",
      "Test accuracy: 1.0\n"
     ]
    }
   ],
   "source": [
    "score = model.evaluate(x_train, y_train, verbose=0)\n",
    "print(\"Test loss:\", score[0])\n",
    "print(\"Test accuracy:\", score[1])"
   ]
  },
  {
   "cell_type": "code",
   "execution_count": 15,
   "metadata": {
    "colab": {
     "base_uri": "https://localhost:8080/"
    },
    "executionInfo": {
     "elapsed": 1325,
     "status": "ok",
     "timestamp": 1716488154330,
     "user": {
      "displayName": "fox eSports",
      "userId": "02112915752480122633"
     },
     "user_tz": -330
    },
    "id": "3UBj40G2wxuV",
    "outputId": "727155b6-f6ab-4d8d-b022-00179dc787cb"
   },
   "outputs": [
    {
     "name": "stdout",
     "output_type": "stream",
     "text": [
      "20/20 [==============================] - 0s 19ms/step\n"
     ]
    }
   ],
   "source": [
    "y_pred = model.predict(x_test)\n"
   ]
  },
  {
   "cell_type": "code",
   "execution_count": 16,
   "metadata": {
    "executionInfo": {
     "elapsed": 14,
     "status": "ok",
     "timestamp": 1716488154331,
     "user": {
      "displayName": "fox eSports",
      "userId": "02112915752480122633"
     },
     "user_tz": -330
    },
    "id": "oDGXGwR7kOcv"
   },
   "outputs": [],
   "source": [
    "from sklearn.metrics import confusion_matrix\n",
    "\n",
    "cm = confusion_matrix(y_test.argmax(axis=1), y_pred.argmax(axis=1))\n"
   ]
  },
  {
   "cell_type": "code",
   "execution_count": 17,
   "metadata": {
    "executionInfo": {
     "elapsed": 13,
     "status": "ok",
     "timestamp": 1716488154331,
     "user": {
      "displayName": "fox eSports",
      "userId": "02112915752480122633"
     },
     "user_tz": -330
    },
    "id": "QJoD-2m7kU6J"
   },
   "outputs": [],
   "source": [
    "sensitivity = cm[1, 1] / (cm[1, 0] + cm[1, 1])\n",
    "specificity = cm[0, 0] / (cm[0, 0] + cm[0, 1])\n"
   ]
  },
  {
   "cell_type": "code",
   "execution_count": 18,
   "metadata": {
    "executionInfo": {
     "elapsed": 12,
     "status": "ok",
     "timestamp": 1716488154331,
     "user": {
      "displayName": "fox eSports",
      "userId": "02112915752480122633"
     },
     "user_tz": -330
    },
    "id": "TJVM3XgTkXHe"
   },
   "outputs": [],
   "source": [
    "from sklearn.metrics import roc_curve\n",
    "\n",
    "fpr, tpr, thresholds = roc_curve(y_test.ravel(), y_pred.ravel())\n"
   ]
  },
  {
   "cell_type": "code",
   "execution_count": 19,
   "metadata": {
    "executionInfo": {
     "elapsed": 11,
     "status": "ok",
     "timestamp": 1716488154331,
     "user": {
      "displayName": "fox eSports",
      "userId": "02112915752480122633"
     },
     "user_tz": -330
    },
    "id": "YEQUWTTHkZTl"
   },
   "outputs": [],
   "source": [
    "from sklearn.metrics import roc_auc_score\n",
    "\n",
    "auc = roc_auc_score(y_test.ravel(), y_pred.ravel())\n"
   ]
  },
  {
   "cell_type": "code",
   "execution_count": 23,
   "metadata": {
    "colab": {
     "base_uri": "https://localhost:8080/",
     "height": 487
    },
    "executionInfo": {
     "elapsed": 675,
     "status": "ok",
     "timestamp": 1716488404724,
     "user": {
      "displayName": "fox eSports",
      "userId": "02112915752480122633"
     },
     "user_tz": -330
    },
    "id": "2HgV5jwckbgS",
    "outputId": "9c1c5106-b5c9-41c6-9f20-198d3f41a64c"
   },
   "outputs": [
    {
     "data": {
      "image/png": "[encoded data removed]",
      "text/plain": [
       "<Figure size 500x500 with 1 Axes>"
      ]
     },
     "metadata": {},
     "output_type": "display_data"
    }
   ],
   "source": [
    "plt.figure(figsize=(5,5))\n",
    "plt.plot(fpr, tpr, label=f'ROC Curve (AUC = {auc:.2f})')\n",
    "plt.plot([0, 1], [0, 1], color='navy', linestyle='--')\n",
    "plt.xlabel('False Positive Rate')\n",
    "plt.ylabel('True Positive Rate')\n",
    "plt.title('Receiver Operating Characteristic (ROC) Curve')\n",
    "plt.legend()\n",
    "plt.show()\n"
   ]
  },
  {
   "cell_type": "code",
   "execution_count": 21,
   "metadata": {
    "colab": {
     "base_uri": "https://localhost:8080/"
    },
    "executionInfo": {
     "elapsed": 10,
     "status": "ok",
     "timestamp": 1716488154332,
     "user": {
      "displayName": "fox eSports",
      "userId": "02112915752480122633"
     },
     "user_tz": -330
    },
    "id": "gBFZO7_WgMGv",
    "outputId": "a0499fac-108c-4418-eba8-d2068ca8ccd6"
   },
   "outputs": [
    {
     "name": "stdout",
     "output_type": "stream",
     "text": [
      "Specificity: 0.8972602739726028\n",
      "Sensitivity: 0.9452887537993921\n"
     ]
    }
   ],
   "source": [
    "import numpy as np\n",
    "import matplotlib.pyplot as plt\n",
    "from sklearn.metrics import confusion_matrix\n",
    "\n",
    "def calculate_specificity_sensitivity(y_true, y_pred):\n",
    "    cm = confusion_matrix(y_true, y_pred)\n",
    "    tn, fp, fn, tp = cm.ravel()\n",
    "\n",
    "    specificity = tn / (tn + fp)\n",
    "    sensitivity = tp / (tp + fn)\n",
    "\n",
    "    return specificity, sensitivity\n",
    "\n",
    "y_test_single = np.argmax(y_test, axis=1)\n",
    "y_pred_single = np.argmax(y_pred, axis=1)\n",
    "\n",
    "specificity, sensitivity = calculate_specificity_sensitivity(y_test_single, y_pred_single)\n",
    "print(\"Specificity:\", specificity)\n",
    "print(\"Sensitivity:\", sensitivity)"
   ]
  },
  {
   "cell_type": "code",
   "execution_count": 22,
   "metadata": {
    "colab": {
     "base_uri": "https://localhost:8080/",
     "height": 449
    },
    "executionInfo": {
     "elapsed": 996,
     "status": "ok",
     "timestamp": 1716488155321,
     "user": {
      "displayName": "fox eSports",
      "userId": "02112915752480122633"
     },
     "user_tz": -330
    },
    "id": "YRxg9yqdoLf0",
    "outputId": "93fe7de2-9533-4a8e-856d-682ae91b2c32"
   },
   "outputs": [
    {
     "data": {
      "image/png": "[encoded data removed]",
      "text/plain": [
       "<Figure size 640x480 with 2 Axes>"
      ]
     },
     "metadata": {},
     "output_type": "display_data"
    }
   ],
   "source": [
    "from sklearn import metrics\n",
    "\n",
    "confusion_matrix = metrics.confusion_matrix(y_test_single, y_pred_single)\n",
    "\n",
    "cm_display = metrics.ConfusionMatrixDisplay(confusion_matrix = confusion_matrix, display_labels = [0, 1])\n",
    "\n",
    "cm_display.plot()\n",
    "plt.show()"
   ]
  }
 ],
 "metadata": {
  "accelerator": "GPU",
  "colab": {
   "gpuType": "T4",
   "provenance": [
    {
     "file_id": "1Ypzg9vfsh7EQ45cRcOueQb4CdHys3dvm",
     "timestamp": 1715677790759
    },
    {
     "file_id": "1FwGQgx9gVuRiUwb5QmUNoOPn58IYdw_x",
     "timestamp": 1715527922692
    },
    {
     "file_id": "1MXv34O_uO0LXuXalfVhJfB3R1rHFAEuT",
     "timestamp": 1711348042581
    },
    {
     "file_id": "1LsCMTzAiFt5nsRcP4mi70FgLUlAq5HDY",
     "timestamp": 1701754323963
    }
   ]
  },
  "kernelspec": {
   "display_name": "Python 3 (ipykernel)",
   "language": "python",
   "name": "python3"
  },
  "language_info": {
   "codemirror_mode": {
    "name": "ipython",
    "version": 3
   },
   "file_extension": ".py",
   "mimetype": "text/x-python",
   "name": "python",
   "nbconvert_exporter": "python",
   "pygments_lexer": "ipython3",
   "version": "3.10.12"
  }
 },
 "nbformat": 4,
 "nbformat_minor": 4
}
